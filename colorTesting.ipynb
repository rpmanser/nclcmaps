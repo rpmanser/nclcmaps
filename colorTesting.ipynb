{
 "cells": [
  {
   "cell_type": "code",
   "execution_count": 3,
   "metadata": {},
   "outputs": [
    {
     "ename": "TypeError",
     "evalue": "cmapMulti() got an unexpected keyword argument 'mapName'",
     "output_type": "error",
     "traceback": [
      "\u001b[0;31m---------------------------------------------------------------------------\u001b[0m",
      "\u001b[0;31mTypeError\u001b[0m                                 Traceback (most recent call last)",
      "\u001b[0;32m<ipython-input-3-2c355793c906>\u001b[0m in \u001b[0;36m<module>\u001b[0;34m()\u001b[0m\n\u001b[1;32m     33\u001b[0m \u001b[0mtempelements\u001b[0m\u001b[0;34m.\u001b[0m\u001b[0mappend\u001b[0m\u001b[0;34m(\u001b[0m\u001b[0mtempElementsNiceSecond\u001b[0m\u001b[0;34m)\u001b[0m\u001b[0;34m\u001b[0m\u001b[0m\n\u001b[1;32m     34\u001b[0m \u001b[0mnames\u001b[0m \u001b[0;34m=\u001b[0m \u001b[0;34m[\u001b[0m\u001b[0;34m\"MPL_Greys\"\u001b[0m\u001b[0;34m,\u001b[0m \u001b[0;34m\"GMT_relief_oceanonly\"\u001b[0m\u001b[0;34m,\u001b[0m \u001b[0;34m\"nice_gfdl\"\u001b[0m\u001b[0;34m]\u001b[0m\u001b[0;34m\u001b[0m\u001b[0m\n\u001b[0;32m---> 35\u001b[0;31m \u001b[0mcmap_Temp\u001b[0m \u001b[0;34m=\u001b[0m \u001b[0mncm\u001b[0m\u001b[0;34m.\u001b[0m\u001b[0mcmapMulti\u001b[0m\u001b[0;34m(\u001b[0m\u001b[0mnames\u001b[0m\u001b[0;34m,\u001b[0m \u001b[0mtempelements\u001b[0m\u001b[0;34m,\u001b[0m \u001b[0msave\u001b[0m\u001b[0;34m=\u001b[0m\u001b[0;32mTrue\u001b[0m\u001b[0;34m,\u001b[0m \u001b[0mmapName\u001b[0m\u001b[0;34m=\u001b[0m\u001b[0;34m\"testing\"\u001b[0m\u001b[0;34m)\u001b[0m\u001b[0;34m\u001b[0m\u001b[0m\n\u001b[0m\u001b[1;32m     36\u001b[0m \u001b[0;34m\u001b[0m\u001b[0m\n\u001b[1;32m     37\u001b[0m \u001b[0;31m# TEMPERATURE COLOR BAR\u001b[0m\u001b[0;34m\u001b[0m\u001b[0;34m\u001b[0m\u001b[0m\n",
      "\u001b[0;31mTypeError\u001b[0m: cmapMulti() got an unexpected keyword argument 'mapName'"
     ]
    }
   ],
   "source": [
    "\"\"\"\n",
    "Created on Wed Feb 28 15:26:56 2018\n",
    "\n",
    "@author: swick\n",
    "\"\"\"\n",
    "\n",
    "# NOTE: discrete has not been tested for cases where you choose more/less elements than colors\n",
    "\n",
    "import matplotlib.pyplot as plt\n",
    "from mpl_toolkits.axes_grid1 import make_axes_locatable\n",
    "import numpy as np\n",
    "import nclcmaps as ncm\n",
    "from matplotlib.colors import to_rgba_array\n",
    "\n",
    "# Bailey's examples\n",
    "#cmap_Temp = ncm.cmap(\"gui_default\")\n",
    "#cmap_Temp = ncm.cmap(\"gui_default\", revBool=True)\n",
    "#cmap_Temp = ncm.cmapRange(\"gui_default\", start=4, finish=9)\n",
    "#cmap_Temp = ncm.cmapRange(\"gui_default\", start=4, finish=9, revBool=True)\n",
    "#tempelements = list(range(2,42))+[48,50,54,62,68,77,86,93,100,108]+[146,150,154,158,162,166,170,174,178,182]\n",
    "#tempelements = list(range(18,235,2))+[235]\n",
    "# The arguments for ncm.cmapDiscrete(\"color table you choose elements out of\", discreteElementsArray)\n",
    "#cmap_Temp = ncm.cmapDiscrete(\"amwg256\", tempelements)\n",
    "#cmap_Temp = ncm.cmapDiscrete(\"NCV_jaisnd\", tempelements)\n",
    "\n",
    "# VORTICITY COLOR BAR\n",
    "tempElementsGreys = list(range(65, 1, -1)) + [2] * 30\n",
    "tempElementsGMT = list(range(81, 55, -1))\n",
    "tempElementsNiceSecond = list(range(93, 226))\n",
    "tempelements = []\n",
    "tempelements.append(tempElementsGreys)\n",
    "tempelements.append(tempElementsGMT)\n",
    "tempelements.append(tempElementsNiceSecond)\n",
    "names = [\"MPL_Greys\", \"GMT_relief_oceanonly\", \"nice_gfdl\"]\n",
    "cmap_Temp = ncm.cmapMulti(names, tempelements, save=True, mapName=\"testing\")\n",
    "\n",
    "# TEMPERATURE COLOR BAR\n",
    "elements_BuPu = list(range(129, 1, -1))\n",
    "elements_Blues = list(range(2, 130))\n",
    "elements_GnBu = list(range(129, 48, -1))\n",
    "elements_BuGn = list(range(48, 130))\n",
    "elements_OLLS = list(range(4, 50))\n",
    "elements_hres = list(range(25, 255))\n",
    "cmapelements = []\n",
    "cmapelements.append(elements_BuPu)\n",
    "cmapelements.append(elements_Blues)\n",
    "cmapelements.append(elements_GnBu)\n",
    "cmapelements.append(elements_BuGn)\n",
    "cmapelements.append(elements_OLLS)\n",
    "cmapelements.append(elements_hres)\n",
    "names = [\"MPL_BuPu\", \"MPL_Blues\", \"MPL_GnBu\", \"MPL_BuGn\", \"OceanLakeLandSnow\", \"hotres\"]\n",
    "\n",
    "cmap_Temp = ncm.cmapMulti(names, cmapelements)\n",
    "\n",
    "\n",
    "\"\"\"\n",
    "#Pwat\n",
    "elements = list(range(140, 260, 15)) + list(range(129, 38, -1))\n",
    "cmap_Temp = ncm.cmapDiscrete(\"GMT_relief\", elements)\n",
    "#cmap_Temp = ncm.cmapRange(\"MPL_gist_earth\", 2, 95, True)\n",
    "\"\"\"\n",
    "\n",
    "fig = plt.figure(figsize = (5,5))\n",
    "ax = fig.add_subplot(111)\n",
    "im = ax.pcolor(np.arange(100).reshape(10,10), cmap=cmap_Temp)\n",
    "\n",
    "# create an axes on the right side of ax. The width of cax will be 5%\n",
    "# of ax and the padding between cax and ax will be fixed at 0.05 inch.\n",
    "divider = make_axes_locatable(ax)\n",
    "cax = divider.append_axes(\"right\", size=\"5%\", pad=0.05)\n",
    "\n",
    "plt.colorbar(im, cax=cax)\n",
    "plt.show()\n",
    "\n",
    "#cmap_temp = ncm.cmapMulti(names, cmapelements, save=True)\n",
    "\n",
    "testmap = ncm.load(\"testing\")\n",
    "im = ax.pcolor(np.arange(100).reshape(10,10), cmap=testmap)\n",
    "plt.colorbar(im, cax=cax)\n",
    "plt.show()"
   ]
  },
  {
   "cell_type": "code",
   "execution_count": null,
   "metadata": {
    "collapsed": true
   },
   "outputs": [],
   "source": []
  },
  {
   "cell_type": "code",
   "execution_count": null,
   "metadata": {
    "collapsed": true
   },
   "outputs": [],
   "source": []
  }
 ],
 "metadata": {
  "kernelspec": {
   "display_name": "Python 3",
   "language": "python",
   "name": "python3"
  },
  "language_info": {
   "codemirror_mode": {
    "name": "ipython",
    "version": 3
   },
   "file_extension": ".py",
   "mimetype": "text/x-python",
   "name": "python",
   "nbconvert_exporter": "python",
   "pygments_lexer": "ipython3",
   "version": "3.6.3"
  }
 },
 "nbformat": 4,
 "nbformat_minor": 2
}
